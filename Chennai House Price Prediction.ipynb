{
 "cells": [
  {
   "cell_type": "code",
   "execution_count": 71,
   "id": "ed8bc55a",
   "metadata": {},
   "outputs": [],
   "source": [
    "import pandas as pd\n",
    "import numpy as np\n",
    "import matplotlib.pyplot as plt\n",
    "import seaborn as sns\n",
    "import warnings\n",
    "warnings.filterwarnings('ignore')"
   ]
  },
  {
   "cell_type": "markdown",
   "id": "0a9a7f86",
   "metadata": {},
   "source": [
    "# Problem Statement\n",
    "Real estate transactions are quite opaque sometimes and it may be difficult for a newbie to know the fair price of any given home. Thus, multiple real estate websites have the functionality to predict the prices of houses given different features regarding it. Such forecasting models will help buyers to identify a fair price for the home and also give insights to sellers as to how to build homes that fetch them more money. Chennai house sale price data is shared here and the participants are expected to build a sale price prediction model that will aid the customers to find a fair price for their homes and also help the sellers understand what factors are fetching more money for the houses?"
   ]
  },
  {
   "cell_type": "code",
   "execution_count": 72,
   "id": "af65b7aa",
   "metadata": {},
   "outputs": [
    {
     "data": {
      "text/html": [
       "<div>\n",
       "<style scoped>\n",
       "    .dataframe tbody tr th:only-of-type {\n",
       "        vertical-align: middle;\n",
       "    }\n",
       "\n",
       "    .dataframe tbody tr th {\n",
       "        vertical-align: top;\n",
       "    }\n",
       "\n",
       "    .dataframe thead th {\n",
       "        text-align: right;\n",
       "    }\n",
       "</style>\n",
       "<table border=\"1\" class=\"dataframe\">\n",
       "  <thead>\n",
       "    <tr style=\"text-align: right;\">\n",
       "      <th></th>\n",
       "      <th>PRT_ID</th>\n",
       "      <th>AREA</th>\n",
       "      <th>INT_SQFT</th>\n",
       "      <th>DATE_SALE</th>\n",
       "      <th>DIST_MAINROAD</th>\n",
       "      <th>N_BEDROOM</th>\n",
       "      <th>N_BATHROOM</th>\n",
       "      <th>N_ROOM</th>\n",
       "      <th>SALE_COND</th>\n",
       "      <th>PARK_FACIL</th>\n",
       "      <th>...</th>\n",
       "      <th>UTILITY_AVAIL</th>\n",
       "      <th>STREET</th>\n",
       "      <th>MZZONE</th>\n",
       "      <th>QS_ROOMS</th>\n",
       "      <th>QS_BATHROOM</th>\n",
       "      <th>QS_BEDROOM</th>\n",
       "      <th>QS_OVERALL</th>\n",
       "      <th>REG_FEE</th>\n",
       "      <th>COMMIS</th>\n",
       "      <th>SALES_PRICE</th>\n",
       "    </tr>\n",
       "  </thead>\n",
       "  <tbody>\n",
       "    <tr>\n",
       "      <th>0</th>\n",
       "      <td>P03210</td>\n",
       "      <td>Karapakkam</td>\n",
       "      <td>1004</td>\n",
       "      <td>04-05-2011</td>\n",
       "      <td>131</td>\n",
       "      <td>1.0</td>\n",
       "      <td>1.0</td>\n",
       "      <td>3</td>\n",
       "      <td>AbNormal</td>\n",
       "      <td>Yes</td>\n",
       "      <td>...</td>\n",
       "      <td>AllPub</td>\n",
       "      <td>Paved</td>\n",
       "      <td>A</td>\n",
       "      <td>4.0</td>\n",
       "      <td>3.9</td>\n",
       "      <td>4.9</td>\n",
       "      <td>4.330</td>\n",
       "      <td>380000</td>\n",
       "      <td>144400</td>\n",
       "      <td>7600000</td>\n",
       "    </tr>\n",
       "    <tr>\n",
       "      <th>1</th>\n",
       "      <td>P09411</td>\n",
       "      <td>Anna Nagar</td>\n",
       "      <td>1986</td>\n",
       "      <td>19-12-2006</td>\n",
       "      <td>26</td>\n",
       "      <td>2.0</td>\n",
       "      <td>1.0</td>\n",
       "      <td>5</td>\n",
       "      <td>AbNormal</td>\n",
       "      <td>No</td>\n",
       "      <td>...</td>\n",
       "      <td>AllPub</td>\n",
       "      <td>Gravel</td>\n",
       "      <td>RH</td>\n",
       "      <td>4.9</td>\n",
       "      <td>4.2</td>\n",
       "      <td>2.5</td>\n",
       "      <td>3.765</td>\n",
       "      <td>760122</td>\n",
       "      <td>304049</td>\n",
       "      <td>21717770</td>\n",
       "    </tr>\n",
       "    <tr>\n",
       "      <th>2</th>\n",
       "      <td>P01812</td>\n",
       "      <td>Adyar</td>\n",
       "      <td>909</td>\n",
       "      <td>04-02-2012</td>\n",
       "      <td>70</td>\n",
       "      <td>1.0</td>\n",
       "      <td>1.0</td>\n",
       "      <td>3</td>\n",
       "      <td>AbNormal</td>\n",
       "      <td>Yes</td>\n",
       "      <td>...</td>\n",
       "      <td>ELO</td>\n",
       "      <td>Gravel</td>\n",
       "      <td>RL</td>\n",
       "      <td>4.1</td>\n",
       "      <td>3.8</td>\n",
       "      <td>2.2</td>\n",
       "      <td>3.090</td>\n",
       "      <td>421094</td>\n",
       "      <td>92114</td>\n",
       "      <td>13159200</td>\n",
       "    </tr>\n",
       "    <tr>\n",
       "      <th>3</th>\n",
       "      <td>P05346</td>\n",
       "      <td>Velachery</td>\n",
       "      <td>1855</td>\n",
       "      <td>13-03-2010</td>\n",
       "      <td>14</td>\n",
       "      <td>3.0</td>\n",
       "      <td>2.0</td>\n",
       "      <td>5</td>\n",
       "      <td>Family</td>\n",
       "      <td>No</td>\n",
       "      <td>...</td>\n",
       "      <td>NoSewr</td>\n",
       "      <td>Paved</td>\n",
       "      <td>I</td>\n",
       "      <td>4.7</td>\n",
       "      <td>3.9</td>\n",
       "      <td>3.6</td>\n",
       "      <td>4.010</td>\n",
       "      <td>356321</td>\n",
       "      <td>77042</td>\n",
       "      <td>9630290</td>\n",
       "    </tr>\n",
       "    <tr>\n",
       "      <th>4</th>\n",
       "      <td>P06210</td>\n",
       "      <td>Karapakkam</td>\n",
       "      <td>1226</td>\n",
       "      <td>05-10-2009</td>\n",
       "      <td>84</td>\n",
       "      <td>1.0</td>\n",
       "      <td>1.0</td>\n",
       "      <td>3</td>\n",
       "      <td>AbNormal</td>\n",
       "      <td>Yes</td>\n",
       "      <td>...</td>\n",
       "      <td>AllPub</td>\n",
       "      <td>Gravel</td>\n",
       "      <td>C</td>\n",
       "      <td>3.0</td>\n",
       "      <td>2.5</td>\n",
       "      <td>4.1</td>\n",
       "      <td>3.290</td>\n",
       "      <td>237000</td>\n",
       "      <td>74063</td>\n",
       "      <td>7406250</td>\n",
       "    </tr>\n",
       "  </tbody>\n",
       "</table>\n",
       "<p>5 rows × 22 columns</p>\n",
       "</div>"
      ],
      "text/plain": [
       "   PRT_ID        AREA  INT_SQFT   DATE_SALE  DIST_MAINROAD  N_BEDROOM  \\\n",
       "0  P03210  Karapakkam      1004  04-05-2011            131        1.0   \n",
       "1  P09411  Anna Nagar      1986  19-12-2006             26        2.0   \n",
       "2  P01812       Adyar       909  04-02-2012             70        1.0   \n",
       "3  P05346   Velachery      1855  13-03-2010             14        3.0   \n",
       "4  P06210  Karapakkam      1226  05-10-2009             84        1.0   \n",
       "\n",
       "   N_BATHROOM  N_ROOM SALE_COND PARK_FACIL  ... UTILITY_AVAIL  STREET MZZONE  \\\n",
       "0         1.0       3  AbNormal        Yes  ...        AllPub   Paved      A   \n",
       "1         1.0       5  AbNormal         No  ...        AllPub  Gravel     RH   \n",
       "2         1.0       3  AbNormal        Yes  ...           ELO  Gravel     RL   \n",
       "3         2.0       5    Family         No  ...       NoSewr    Paved      I   \n",
       "4         1.0       3  AbNormal        Yes  ...        AllPub  Gravel      C   \n",
       "\n",
       "  QS_ROOMS QS_BATHROOM  QS_BEDROOM  QS_OVERALL  REG_FEE  COMMIS  SALES_PRICE  \n",
       "0      4.0         3.9         4.9       4.330   380000  144400      7600000  \n",
       "1      4.9         4.2         2.5       3.765   760122  304049     21717770  \n",
       "2      4.1         3.8         2.2       3.090   421094   92114     13159200  \n",
       "3      4.7         3.9         3.6       4.010   356321   77042      9630290  \n",
       "4      3.0         2.5         4.1       3.290   237000   74063      7406250  \n",
       "\n",
       "[5 rows x 22 columns]"
      ]
     },
     "execution_count": 72,
     "metadata": {},
     "output_type": "execute_result"
    }
   ],
   "source": [
    "df = pd.read_csv('Chennai houseing sale.csv')\n",
    "df.head()"
   ]
  },
  {
   "cell_type": "code",
   "execution_count": 73,
   "id": "1e56680a",
   "metadata": {},
   "outputs": [
    {
     "data": {
      "text/plain": [
       "(7109, 22)"
      ]
     },
     "execution_count": 73,
     "metadata": {},
     "output_type": "execute_result"
    }
   ],
   "source": [
    "df.shape"
   ]
  },
  {
   "cell_type": "code",
   "execution_count": 74,
   "id": "1f42b38b",
   "metadata": {},
   "outputs": [
    {
     "data": {
      "text/plain": [
       "Index(['PRT_ID', 'AREA', 'INT_SQFT', 'DATE_SALE', 'DIST_MAINROAD', 'N_BEDROOM',\n",
       "       'N_BATHROOM', 'N_ROOM', 'SALE_COND', 'PARK_FACIL', 'DATE_BUILD',\n",
       "       'BUILDTYPE', 'UTILITY_AVAIL', 'STREET', 'MZZONE', 'QS_ROOMS',\n",
       "       'QS_BATHROOM', 'QS_BEDROOM', 'QS_OVERALL', 'REG_FEE', 'COMMIS',\n",
       "       'SALES_PRICE'],\n",
       "      dtype='object')"
      ]
     },
     "execution_count": 74,
     "metadata": {},
     "output_type": "execute_result"
    }
   ],
   "source": [
    "df.columns"
   ]
  },
  {
   "cell_type": "markdown",
   "id": "9bb77d01",
   "metadata": {},
   "source": [
    "# Data Cleaning by Columns wise"
   ]
  },
  {
   "cell_type": "code",
   "execution_count": 75,
   "id": "b7b5dbee",
   "metadata": {},
   "outputs": [
    {
     "data": {
      "text/plain": [
       "(7109, 22)"
      ]
     },
     "execution_count": 75,
     "metadata": {},
     "output_type": "execute_result"
    }
   ],
   "source": [
    "df.shape"
   ]
  },
  {
   "cell_type": "code",
   "execution_count": 76,
   "id": "a7c223b9",
   "metadata": {},
   "outputs": [
    {
     "data": {
      "text/plain": [
       "PRT_ID            0\n",
       "AREA              0\n",
       "INT_SQFT          0\n",
       "DATE_SALE         0\n",
       "DIST_MAINROAD     0\n",
       "N_BEDROOM         1\n",
       "N_BATHROOM        5\n",
       "N_ROOM            0\n",
       "SALE_COND         0\n",
       "PARK_FACIL        0\n",
       "DATE_BUILD        0\n",
       "BUILDTYPE         0\n",
       "UTILITY_AVAIL     0\n",
       "STREET            0\n",
       "MZZONE            0\n",
       "QS_ROOMS          0\n",
       "QS_BATHROOM       0\n",
       "QS_BEDROOM        0\n",
       "QS_OVERALL       48\n",
       "REG_FEE           0\n",
       "COMMIS            0\n",
       "SALES_PRICE       0\n",
       "dtype: int64"
      ]
     },
     "execution_count": 76,
     "metadata": {},
     "output_type": "execute_result"
    }
   ],
   "source": [
    "df.isnull().sum()"
   ]
  },
  {
   "cell_type": "code",
   "execution_count": 77,
   "id": "265e659a",
   "metadata": {},
   "outputs": [
    {
     "data": {
      "text/plain": [
       "PRT_ID            object\n",
       "AREA              object\n",
       "INT_SQFT           int64\n",
       "DATE_SALE         object\n",
       "DIST_MAINROAD      int64\n",
       "N_BEDROOM        float64\n",
       "N_BATHROOM       float64\n",
       "N_ROOM             int64\n",
       "SALE_COND         object\n",
       "PARK_FACIL        object\n",
       "DATE_BUILD        object\n",
       "BUILDTYPE         object\n",
       "UTILITY_AVAIL     object\n",
       "STREET            object\n",
       "MZZONE            object\n",
       "QS_ROOMS         float64\n",
       "QS_BATHROOM      float64\n",
       "QS_BEDROOM       float64\n",
       "QS_OVERALL       float64\n",
       "REG_FEE            int64\n",
       "COMMIS             int64\n",
       "SALES_PRICE        int64\n",
       "dtype: object"
      ]
     },
     "execution_count": 77,
     "metadata": {},
     "output_type": "execute_result"
    }
   ],
   "source": [
    "df.dtypes"
   ]
  },
  {
   "cell_type": "markdown",
   "id": "680ab954",
   "metadata": {},
   "source": [
    "PRT_ID"
   ]
  },
  {
   "cell_type": "markdown",
   "id": "8a7fa46d",
   "metadata": {},
   "source": [
    "len(df.PRT_ID.unique())"
   ]
  },
  {
   "cell_type": "markdown",
   "id": "73b0722d",
   "metadata": {},
   "source": [
    "This is a unique column so we dont use this column and hence we drop the same"
   ]
  },
  {
   "cell_type": "code",
   "execution_count": 78,
   "id": "b2b4abe4",
   "metadata": {},
   "outputs": [],
   "source": [
    "df.drop(['PRT_ID'], axis = 1, inplace = True)"
   ]
  },
  {
   "cell_type": "code",
   "execution_count": 79,
   "id": "29e75d31",
   "metadata": {},
   "outputs": [
    {
     "data": {
      "text/plain": [
       "Index(['AREA', 'INT_SQFT', 'DATE_SALE', 'DIST_MAINROAD', 'N_BEDROOM',\n",
       "       'N_BATHROOM', 'N_ROOM', 'SALE_COND', 'PARK_FACIL', 'DATE_BUILD',\n",
       "       'BUILDTYPE', 'UTILITY_AVAIL', 'STREET', 'MZZONE', 'QS_ROOMS',\n",
       "       'QS_BATHROOM', 'QS_BEDROOM', 'QS_OVERALL', 'REG_FEE', 'COMMIS',\n",
       "       'SALES_PRICE'],\n",
       "      dtype='object')"
      ]
     },
     "execution_count": 79,
     "metadata": {},
     "output_type": "execute_result"
    }
   ],
   "source": [
    "df.columns"
   ]
  },
  {
   "cell_type": "markdown",
   "id": "fbe74474",
   "metadata": {},
   "source": [
    "AREA"
   ]
  },
  {
   "cell_type": "code",
   "execution_count": 80,
   "id": "162f0150",
   "metadata": {},
   "outputs": [
    {
     "data": {
      "text/plain": [
       "Chrompet      1681\n",
       "Karapakkam    1363\n",
       "KK Nagar       996\n",
       "Velachery      979\n",
       "Anna Nagar     783\n",
       "Adyar          773\n",
       "T Nagar        496\n",
       "Chrompt          9\n",
       "Chrmpet          6\n",
       "Chormpet         6\n",
       "TNagar           5\n",
       "Karapakam        3\n",
       "Ana Nagar        3\n",
       "Velchery         2\n",
       "Ann Nagar        2\n",
       "Adyr             1\n",
       "KKNagar          1\n",
       "Name: AREA, dtype: int64"
      ]
     },
     "execution_count": 80,
     "metadata": {},
     "output_type": "execute_result"
    }
   ],
   "source": [
    "df.AREA.value_counts()"
   ]
  },
  {
   "cell_type": "code",
   "execution_count": 81,
   "id": "c1f4bc47",
   "metadata": {},
   "outputs": [],
   "source": [
    "df.AREA = df['AREA'].replace({'Chrompt' : 'Chrompet'})\n",
    "df.AREA = df['AREA'].replace({'Chormpet' : 'Chrompet'})\n",
    "df.AREA = df['AREA'].replace({'Chrmpet' : 'Chrompet'})\n",
    "df.AREA = df['AREA'].replace({'Chormpet' : 'Chrompet'})\n",
    "df.AREA = df['AREA'].replace({'Karapakam' : 'Karapakkam'})\n",
    "df.AREA = df['AREA'].replace({'KKNagar' : 'KK Nagar'})\n",
    "df.AREA = df['AREA'].replace({'Velchery' : 'Velachery'})\n",
    "df.AREA = df['AREA'].replace({'Ana Nagar' : 'Anna Nagar'})\n",
    "df.AREA = df['AREA'].replace({'Ann Nagar' : 'Anna Nagar'})\n",
    "df.AREA = df['AREA'].replace({'Adyr' : 'Adyar'})\n",
    "df.AREA = df['AREA'].replace({'TNagar' : 'T Nagar'})"
   ]
  },
  {
   "cell_type": "markdown",
   "id": "e5cb8fca",
   "metadata": {},
   "source": [
    "Square Feet"
   ]
  },
  {
   "cell_type": "code",
   "execution_count": 82,
   "id": "1aecae5a",
   "metadata": {},
   "outputs": [
    {
     "data": {
      "text/plain": [
       "count    7109.000000\n",
       "mean     1382.073006\n",
       "std       457.410902\n",
       "min       500.000000\n",
       "25%       993.000000\n",
       "50%      1373.000000\n",
       "75%      1744.000000\n",
       "max      2500.000000\n",
       "Name: INT_SQFT, dtype: float64"
      ]
     },
     "execution_count": 82,
     "metadata": {},
     "output_type": "execute_result"
    }
   ],
   "source": [
    "df.INT_SQFT.describe()"
   ]
  },
  {
   "cell_type": "code",
   "execution_count": 83,
   "id": "c9dae270",
   "metadata": {},
   "outputs": [
    {
     "data": {
      "text/plain": [
       "(-133.5, 2870.5)"
      ]
     },
     "execution_count": 83,
     "metadata": {},
     "output_type": "execute_result"
    }
   ],
   "source": [
    "q1 = df.INT_SQFT.quantile(0.25)\n",
    "q3 = df.INT_SQFT.quantile(0.75)\n",
    "iqr = q3 - q1\n",
    "upper = q3 + (iqr * 1.5)\n",
    "lower = q1 - (iqr * 1.5)\n",
    "lower, upper"
   ]
  },
  {
   "cell_type": "markdown",
   "id": "04697ffe",
   "metadata": {},
   "source": [
    "DATE OF SALE"
   ]
  },
  {
   "cell_type": "code",
   "execution_count": 84,
   "id": "68ef4040",
   "metadata": {},
   "outputs": [
    {
     "data": {
      "text/plain": [
       "0       04-05-2011\n",
       "1       19-12-2006\n",
       "2       04-02-2012\n",
       "3       13-03-2010\n",
       "4       05-10-2009\n",
       "           ...    \n",
       "7104    03-01-2011\n",
       "7105    08-04-2004\n",
       "7106    25-08-2006\n",
       "7107    03-08-2009\n",
       "7108    13-07-2005\n",
       "Name: DATE_SALE, Length: 7109, dtype: object"
      ]
     },
     "execution_count": 84,
     "metadata": {},
     "output_type": "execute_result"
    }
   ],
   "source": [
    "df.DATE_SALE"
   ]
  },
  {
   "cell_type": "code",
   "execution_count": 85,
   "id": "5cfcab20",
   "metadata": {},
   "outputs": [],
   "source": [
    "df.DATE_SALE = pd.to_datetime(df.DATE_SALE)"
   ]
  },
  {
   "cell_type": "markdown",
   "id": "1fc3300d",
   "metadata": {},
   "source": [
    "DISTANCE FROM MAINROAD"
   ]
  },
  {
   "cell_type": "code",
   "execution_count": 86,
   "id": "b4af4836",
   "metadata": {},
   "outputs": [
    {
     "data": {
      "text/plain": [
       "count    7109.000000\n",
       "mean       99.603179\n",
       "std        57.403110\n",
       "min         0.000000\n",
       "25%        50.000000\n",
       "50%        99.000000\n",
       "75%       148.000000\n",
       "max       200.000000\n",
       "Name: DIST_MAINROAD, dtype: float64"
      ]
     },
     "execution_count": 86,
     "metadata": {},
     "output_type": "execute_result"
    }
   ],
   "source": [
    "df.DIST_MAINROAD.describe()"
   ]
  },
  {
   "cell_type": "code",
   "execution_count": 87,
   "id": "b68268f7",
   "metadata": {},
   "outputs": [
    {
     "data": {
      "text/plain": [
       "(-97.0, 295.0)"
      ]
     },
     "execution_count": 87,
     "metadata": {},
     "output_type": "execute_result"
    }
   ],
   "source": [
    "q1 = df.DIST_MAINROAD.quantile(0.25)\n",
    "q3 = df.DIST_MAINROAD.quantile(0.75)\n",
    "iqr = q3 - q1\n",
    "upper = q3 + (iqr * 1.5)\n",
    "lower = q1 - (iqr * 1.5)\n",
    "lower, upper"
   ]
  },
  {
   "cell_type": "markdown",
   "id": "26b6c6cc",
   "metadata": {},
   "source": [
    "Number Of BEDROOM"
   ]
  },
  {
   "cell_type": "code",
   "execution_count": 88,
   "id": "132856f1",
   "metadata": {},
   "outputs": [
    {
     "data": {
      "text/html": [
       "<div>\n",
       "<style scoped>\n",
       "    .dataframe tbody tr th:only-of-type {\n",
       "        vertical-align: middle;\n",
       "    }\n",
       "\n",
       "    .dataframe tbody tr th {\n",
       "        vertical-align: top;\n",
       "    }\n",
       "\n",
       "    .dataframe thead th {\n",
       "        text-align: right;\n",
       "    }\n",
       "</style>\n",
       "<table border=\"1\" class=\"dataframe\">\n",
       "  <thead>\n",
       "    <tr style=\"text-align: right;\">\n",
       "      <th></th>\n",
       "      <th>AREA</th>\n",
       "      <th>INT_SQFT</th>\n",
       "      <th>DATE_SALE</th>\n",
       "      <th>DIST_MAINROAD</th>\n",
       "      <th>N_BEDROOM</th>\n",
       "      <th>N_BATHROOM</th>\n",
       "      <th>N_ROOM</th>\n",
       "      <th>SALE_COND</th>\n",
       "      <th>PARK_FACIL</th>\n",
       "      <th>DATE_BUILD</th>\n",
       "      <th>...</th>\n",
       "      <th>UTILITY_AVAIL</th>\n",
       "      <th>STREET</th>\n",
       "      <th>MZZONE</th>\n",
       "      <th>QS_ROOMS</th>\n",
       "      <th>QS_BATHROOM</th>\n",
       "      <th>QS_BEDROOM</th>\n",
       "      <th>QS_OVERALL</th>\n",
       "      <th>REG_FEE</th>\n",
       "      <th>COMMIS</th>\n",
       "      <th>SALES_PRICE</th>\n",
       "    </tr>\n",
       "  </thead>\n",
       "  <tbody>\n",
       "    <tr>\n",
       "      <th>4060</th>\n",
       "      <td>Anna Nagar</td>\n",
       "      <td>1556</td>\n",
       "      <td>2013-01-16</td>\n",
       "      <td>181</td>\n",
       "      <td>NaN</td>\n",
       "      <td>1.0</td>\n",
       "      <td>4</td>\n",
       "      <td>Partiall</td>\n",
       "      <td>No</td>\n",
       "      <td>23-01-1986</td>\n",
       "      <td>...</td>\n",
       "      <td>NoSewr</td>\n",
       "      <td>No Access</td>\n",
       "      <td>RM</td>\n",
       "      <td>4.8</td>\n",
       "      <td>2.7</td>\n",
       "      <td>2.0</td>\n",
       "      <td>3.155</td>\n",
       "      <td>313136</td>\n",
       "      <td>107978</td>\n",
       "      <td>10797790</td>\n",
       "    </tr>\n",
       "  </tbody>\n",
       "</table>\n",
       "<p>1 rows × 21 columns</p>\n",
       "</div>"
      ],
      "text/plain": [
       "            AREA  INT_SQFT  DATE_SALE  DIST_MAINROAD  N_BEDROOM  N_BATHROOM  \\\n",
       "4060  Anna Nagar      1556 2013-01-16            181        NaN         1.0   \n",
       "\n",
       "      N_ROOM SALE_COND PARK_FACIL  DATE_BUILD  ... UTILITY_AVAIL     STREET  \\\n",
       "4060       4  Partiall         No  23-01-1986  ...       NoSewr   No Access   \n",
       "\n",
       "     MZZONE QS_ROOMS  QS_BATHROOM  QS_BEDROOM  QS_OVERALL  REG_FEE  COMMIS  \\\n",
       "4060     RM      4.8          2.7         2.0       3.155   313136  107978   \n",
       "\n",
       "      SALES_PRICE  \n",
       "4060     10797790  \n",
       "\n",
       "[1 rows x 21 columns]"
      ]
     },
     "execution_count": 88,
     "metadata": {},
     "output_type": "execute_result"
    }
   ],
   "source": [
    "df[df.N_BEDROOM.isnull()]"
   ]
  },
  {
   "cell_type": "code",
   "execution_count": 89,
   "id": "60d3b61c",
   "metadata": {},
   "outputs": [],
   "source": [
    "df.N_BEDROOM = df['N_BEDROOM'].fillna(df['N_BEDROOM'][0])"
   ]
  },
  {
   "cell_type": "code",
   "execution_count": 90,
   "id": "106898f3",
   "metadata": {},
   "outputs": [
    {
     "data": {
      "text/plain": [
       "1.0    3796\n",
       "2.0    2352\n",
       "3.0     707\n",
       "4.0     254\n",
       "Name: N_BEDROOM, dtype: int64"
      ]
     },
     "execution_count": 90,
     "metadata": {},
     "output_type": "execute_result"
    }
   ],
   "source": [
    "df.N_BEDROOM.value_counts()"
   ]
  },
  {
   "cell_type": "markdown",
   "id": "99ab10ea",
   "metadata": {},
   "source": [
    "No Of BATHROOM"
   ]
  },
  {
   "cell_type": "code",
   "execution_count": 91,
   "id": "cb853951",
   "metadata": {},
   "outputs": [
    {
     "data": {
      "text/html": [
       "<div>\n",
       "<style scoped>\n",
       "    .dataframe tbody tr th:only-of-type {\n",
       "        vertical-align: middle;\n",
       "    }\n",
       "\n",
       "    .dataframe tbody tr th {\n",
       "        vertical-align: top;\n",
       "    }\n",
       "\n",
       "    .dataframe thead th {\n",
       "        text-align: right;\n",
       "    }\n",
       "</style>\n",
       "<table border=\"1\" class=\"dataframe\">\n",
       "  <thead>\n",
       "    <tr style=\"text-align: right;\">\n",
       "      <th></th>\n",
       "      <th>AREA</th>\n",
       "      <th>INT_SQFT</th>\n",
       "      <th>DATE_SALE</th>\n",
       "      <th>DIST_MAINROAD</th>\n",
       "      <th>N_BEDROOM</th>\n",
       "      <th>N_BATHROOM</th>\n",
       "      <th>N_ROOM</th>\n",
       "      <th>SALE_COND</th>\n",
       "      <th>PARK_FACIL</th>\n",
       "      <th>DATE_BUILD</th>\n",
       "      <th>...</th>\n",
       "      <th>UTILITY_AVAIL</th>\n",
       "      <th>STREET</th>\n",
       "      <th>MZZONE</th>\n",
       "      <th>QS_ROOMS</th>\n",
       "      <th>QS_BATHROOM</th>\n",
       "      <th>QS_BEDROOM</th>\n",
       "      <th>QS_OVERALL</th>\n",
       "      <th>REG_FEE</th>\n",
       "      <th>COMMIS</th>\n",
       "      <th>SALES_PRICE</th>\n",
       "    </tr>\n",
       "  </thead>\n",
       "  <tbody>\n",
       "    <tr>\n",
       "      <th>70</th>\n",
       "      <td>Anna Nagar</td>\n",
       "      <td>1589</td>\n",
       "      <td>2010-03-22</td>\n",
       "      <td>39</td>\n",
       "      <td>1.0</td>\n",
       "      <td>NaN</td>\n",
       "      <td>4</td>\n",
       "      <td>Partial</td>\n",
       "      <td>No</td>\n",
       "      <td>02-04-1966</td>\n",
       "      <td>...</td>\n",
       "      <td>AllPub</td>\n",
       "      <td>Gravel</td>\n",
       "      <td>RL</td>\n",
       "      <td>2.1</td>\n",
       "      <td>2.5</td>\n",
       "      <td>4.5</td>\n",
       "      <td>3.16</td>\n",
       "      <td>451857</td>\n",
       "      <td>85486</td>\n",
       "      <td>12212350</td>\n",
       "    </tr>\n",
       "    <tr>\n",
       "      <th>5087</th>\n",
       "      <td>Chrompet</td>\n",
       "      <td>1016</td>\n",
       "      <td>2012-02-08</td>\n",
       "      <td>105</td>\n",
       "      <td>1.0</td>\n",
       "      <td>NaN</td>\n",
       "      <td>3</td>\n",
       "      <td>AbNormal</td>\n",
       "      <td>Yes</td>\n",
       "      <td>10-08-1980</td>\n",
       "      <td>...</td>\n",
       "      <td>NoSewr</td>\n",
       "      <td>Gravel</td>\n",
       "      <td>RM</td>\n",
       "      <td>3.2</td>\n",
       "      <td>4.2</td>\n",
       "      <td>2.0</td>\n",
       "      <td>3.24</td>\n",
       "      <td>330086</td>\n",
       "      <td>106479</td>\n",
       "      <td>10647920</td>\n",
       "    </tr>\n",
       "    <tr>\n",
       "      <th>6134</th>\n",
       "      <td>Chrompet</td>\n",
       "      <td>916</td>\n",
       "      <td>2012-02-08</td>\n",
       "      <td>173</td>\n",
       "      <td>1.0</td>\n",
       "      <td>NaN</td>\n",
       "      <td>3</td>\n",
       "      <td>Normal Sale</td>\n",
       "      <td>Yes</td>\n",
       "      <td>12-08-1974</td>\n",
       "      <td>...</td>\n",
       "      <td>ELO</td>\n",
       "      <td>Paved</td>\n",
       "      <td>RL</td>\n",
       "      <td>3.4</td>\n",
       "      <td>3.5</td>\n",
       "      <td>3.0</td>\n",
       "      <td>NaN</td>\n",
       "      <td>265423</td>\n",
       "      <td>44237</td>\n",
       "      <td>8847420</td>\n",
       "    </tr>\n",
       "    <tr>\n",
       "      <th>6371</th>\n",
       "      <td>Chrompet</td>\n",
       "      <td>1035</td>\n",
       "      <td>2012-06-11</td>\n",
       "      <td>90</td>\n",
       "      <td>1.0</td>\n",
       "      <td>NaN</td>\n",
       "      <td>3</td>\n",
       "      <td>Partial</td>\n",
       "      <td>No</td>\n",
       "      <td>14-11-1981</td>\n",
       "      <td>...</td>\n",
       "      <td>NoSeWa</td>\n",
       "      <td>No Access</td>\n",
       "      <td>RM</td>\n",
       "      <td>2.3</td>\n",
       "      <td>3.5</td>\n",
       "      <td>3.2</td>\n",
       "      <td>3.05</td>\n",
       "      <td>223403</td>\n",
       "      <td>24823</td>\n",
       "      <td>8274200</td>\n",
       "    </tr>\n",
       "    <tr>\n",
       "      <th>6535</th>\n",
       "      <td>Anna Nagar</td>\n",
       "      <td>1864</td>\n",
       "      <td>2007-05-03</td>\n",
       "      <td>184</td>\n",
       "      <td>2.0</td>\n",
       "      <td>NaN</td>\n",
       "      <td>5</td>\n",
       "      <td>Family</td>\n",
       "      <td>Yes</td>\n",
       "      <td>07-03-1997</td>\n",
       "      <td>...</td>\n",
       "      <td>NoSewr</td>\n",
       "      <td>Paved</td>\n",
       "      <td>RM</td>\n",
       "      <td>3.3</td>\n",
       "      <td>3.7</td>\n",
       "      <td>4.7</td>\n",
       "      <td>3.96</td>\n",
       "      <td>575606</td>\n",
       "      <td>124455</td>\n",
       "      <td>15556920</td>\n",
       "    </tr>\n",
       "  </tbody>\n",
       "</table>\n",
       "<p>5 rows × 21 columns</p>\n",
       "</div>"
      ],
      "text/plain": [
       "            AREA  INT_SQFT  DATE_SALE  DIST_MAINROAD  N_BEDROOM  N_BATHROOM  \\\n",
       "70    Anna Nagar      1589 2010-03-22             39        1.0         NaN   \n",
       "5087    Chrompet      1016 2012-02-08            105        1.0         NaN   \n",
       "6134    Chrompet       916 2012-02-08            173        1.0         NaN   \n",
       "6371    Chrompet      1035 2012-06-11             90        1.0         NaN   \n",
       "6535  Anna Nagar      1864 2007-05-03            184        2.0         NaN   \n",
       "\n",
       "      N_ROOM    SALE_COND PARK_FACIL  DATE_BUILD  ... UTILITY_AVAIL  \\\n",
       "70         4      Partial         No  02-04-1966  ...        AllPub   \n",
       "5087       3     AbNormal        Yes  10-08-1980  ...       NoSewr    \n",
       "6134       3  Normal Sale        Yes  12-08-1974  ...           ELO   \n",
       "6371       3      Partial         No  14-11-1981  ...        NoSeWa   \n",
       "6535       5       Family        Yes  07-03-1997  ...       NoSewr    \n",
       "\n",
       "         STREET MZZONE QS_ROOMS  QS_BATHROOM  QS_BEDROOM  QS_OVERALL  REG_FEE  \\\n",
       "70       Gravel     RL      2.1          2.5         4.5        3.16   451857   \n",
       "5087     Gravel     RM      3.2          4.2         2.0        3.24   330086   \n",
       "6134      Paved     RL      3.4          3.5         3.0         NaN   265423   \n",
       "6371  No Access     RM      2.3          3.5         3.2        3.05   223403   \n",
       "6535      Paved     RM      3.3          3.7         4.7        3.96   575606   \n",
       "\n",
       "      COMMIS  SALES_PRICE  \n",
       "70     85486     12212350  \n",
       "5087  106479     10647920  \n",
       "6134   44237      8847420  \n",
       "6371   24823      8274200  \n",
       "6535  124455     15556920  \n",
       "\n",
       "[5 rows x 21 columns]"
      ]
     },
     "execution_count": 91,
     "metadata": {},
     "output_type": "execute_result"
    }
   ],
   "source": [
    "df[df.N_BATHROOM.isnull()]"
   ]
  },
  {
   "cell_type": "code",
   "execution_count": 92,
   "id": "2fca43dd",
   "metadata": {},
   "outputs": [
    {
     "data": {
      "text/plain": [
       "1.0    5589\n",
       "2.0    1515\n",
       "Name: N_BATHROOM, dtype: int64"
      ]
     },
     "execution_count": 92,
     "metadata": {},
     "output_type": "execute_result"
    }
   ],
   "source": [
    "df.N_BATHROOM.value_counts()"
   ]
  },
  {
   "cell_type": "code",
   "execution_count": 93,
   "id": "baae459d",
   "metadata": {},
   "outputs": [],
   "source": [
    "df.N_BATHROOM = df['N_BATHROOM'].fillna(df['N_BATHROOM'][0])"
   ]
  },
  {
   "cell_type": "code",
   "execution_count": 94,
   "id": "b08797be",
   "metadata": {},
   "outputs": [
    {
     "data": {
      "text/plain": [
       "1.0    5594\n",
       "2.0    1515\n",
       "Name: N_BATHROOM, dtype: int64"
      ]
     },
     "execution_count": 94,
     "metadata": {},
     "output_type": "execute_result"
    }
   ],
   "source": [
    "df.N_BATHROOM.value_counts()"
   ]
  },
  {
   "cell_type": "markdown",
   "id": "3d3c1a09",
   "metadata": {},
   "source": [
    "NUMBER OF ROOMS"
   ]
  },
  {
   "cell_type": "code",
   "execution_count": 95,
   "id": "bce3f52c",
   "metadata": {},
   "outputs": [
    {
     "data": {
      "text/plain": [
       "4    2563\n",
       "3    2125\n",
       "5    1246\n",
       "2     921\n",
       "6     254\n",
       "Name: N_ROOM, dtype: int64"
      ]
     },
     "execution_count": 95,
     "metadata": {},
     "output_type": "execute_result"
    }
   ],
   "source": [
    "df.N_ROOM.value_counts()"
   ]
  },
  {
   "cell_type": "markdown",
   "id": "e28f011d",
   "metadata": {},
   "source": [
    "SALES CONDITION"
   ]
  },
  {
   "cell_type": "code",
   "execution_count": 96,
   "id": "82c87ce6",
   "metadata": {},
   "outputs": [
    {
     "data": {
      "text/plain": [
       "AdjLand        1433\n",
       "Partial        1429\n",
       "Normal Sale    1423\n",
       "AbNormal       1406\n",
       "Family         1403\n",
       "Adj Land          6\n",
       "Ab Normal         5\n",
       "Partiall          3\n",
       "PartiaLl          1\n",
       "Name: SALE_COND, dtype: int64"
      ]
     },
     "execution_count": 96,
     "metadata": {},
     "output_type": "execute_result"
    }
   ],
   "source": [
    "df.SALE_COND.value_counts()"
   ]
  },
  {
   "cell_type": "code",
   "execution_count": 97,
   "id": "72e101e4",
   "metadata": {},
   "outputs": [],
   "source": [
    "df.SALE_COND = df['SALE_COND'].replace({'Adj Land' : 'AdjLand'})\n",
    "df.SALE_COND = df['SALE_COND'].replace({'Partiall' : 'Partial'})\n",
    "df.SALE_COND = df['SALE_COND'].replace({'PartiaLl' : 'Partial'})\n",
    "df.SALE_COND = df['SALE_COND'].replace({'Ab Normal' : 'AbNormal'})"
   ]
  },
  {
   "cell_type": "code",
   "execution_count": 98,
   "id": "4a91c3d0",
   "metadata": {},
   "outputs": [
    {
     "data": {
      "text/plain": [
       "AdjLand        1439\n",
       "Partial        1433\n",
       "Normal Sale    1423\n",
       "AbNormal       1411\n",
       "Family         1403\n",
       "Name: SALE_COND, dtype: int64"
      ]
     },
     "execution_count": 98,
     "metadata": {},
     "output_type": "execute_result"
    }
   ],
   "source": [
    "df.SALE_COND.value_counts()"
   ]
  },
  {
   "cell_type": "markdown",
   "id": "b46b903b",
   "metadata": {},
   "source": [
    "PARKING FACILITY"
   ]
  },
  {
   "cell_type": "code",
   "execution_count": 99,
   "id": "b5d199ce",
   "metadata": {},
   "outputs": [
    {
     "data": {
      "text/plain": [
       "Yes    3587\n",
       "No     3520\n",
       "Noo       2\n",
       "Name: PARK_FACIL, dtype: int64"
      ]
     },
     "execution_count": 99,
     "metadata": {},
     "output_type": "execute_result"
    }
   ],
   "source": [
    "df.PARK_FACIL.value_counts()"
   ]
  },
  {
   "cell_type": "code",
   "execution_count": 100,
   "id": "d9014014",
   "metadata": {},
   "outputs": [],
   "source": [
    "df.PARK_FACIL = df['PARK_FACIL'].replace({'Noo' : 'No'})"
   ]
  },
  {
   "cell_type": "markdown",
   "id": "d58e7661",
   "metadata": {},
   "source": [
    " DATE BUILD"
   ]
  },
  {
   "cell_type": "code",
   "execution_count": 101,
   "id": "3d1e868e",
   "metadata": {},
   "outputs": [
    {
     "data": {
      "text/plain": [
       "'15-05-1967'"
      ]
     },
     "execution_count": 101,
     "metadata": {},
     "output_type": "execute_result"
    }
   ],
   "source": [
    "df.DATE_BUILD[0]"
   ]
  },
  {
   "cell_type": "code",
   "execution_count": 102,
   "id": "8c1e2bf4",
   "metadata": {},
   "outputs": [],
   "source": [
    "df.DATE_BUILD = pd.to_datetime(df.DATE_BUILD)"
   ]
  },
  {
   "cell_type": "markdown",
   "id": "8a7f3e29",
   "metadata": {},
   "source": [
    " BUILDTYPE"
   ]
  },
  {
   "cell_type": "code",
   "execution_count": 103,
   "id": "d6cf64ca",
   "metadata": {},
   "outputs": [
    {
     "data": {
      "text/plain": [
       "House         2444\n",
       "Commercial    2325\n",
       "Others        2310\n",
       "Other           26\n",
       "Comercial        4\n",
       "Name: BUILDTYPE, dtype: int64"
      ]
     },
     "execution_count": 103,
     "metadata": {},
     "output_type": "execute_result"
    }
   ],
   "source": [
    "df.BUILDTYPE.value_counts()"
   ]
  },
  {
   "cell_type": "code",
   "execution_count": 104,
   "id": "f1bb3a4f",
   "metadata": {},
   "outputs": [],
   "source": [
    "df.BUILDTYPE = df['BUILDTYPE'].replace({'Comercial' : 'Commercial'})\n",
    "df.BUILDTYPE = df['BUILDTYPE'].replace({'Other' : 'Others'})"
   ]
  },
  {
   "cell_type": "markdown",
   "id": "7ca17490",
   "metadata": {},
   "source": [
    "UTILITY AVAILABLE"
   ]
  },
  {
   "cell_type": "code",
   "execution_count": 105,
   "id": "9dd1cf4c",
   "metadata": {},
   "outputs": [
    {
     "data": {
      "text/plain": [
       "AllPub     1886\n",
       "NoSeWa     1871\n",
       "NoSewr     1829\n",
       "ELO        1522\n",
       "All Pub       1\n",
       "Name: UTILITY_AVAIL, dtype: int64"
      ]
     },
     "execution_count": 105,
     "metadata": {},
     "output_type": "execute_result"
    }
   ],
   "source": [
    "df.UTILITY_AVAIL.value_counts()"
   ]
  },
  {
   "cell_type": "code",
   "execution_count": 106,
   "id": "cf3bf29c",
   "metadata": {},
   "outputs": [],
   "source": [
    "df.UTILITY_AVAIL = df['UTILITY_AVAIL'].replace({'All Pub' : 'AllPub'})\n",
    "df.UTILITY_AVAIL = df['UTILITY_AVAIL'].replace({'NoSewr ' : 'NoSewr'})"
   ]
  },
  {
   "cell_type": "markdown",
   "id": "1a0e5008",
   "metadata": {},
   "source": [
    "STREET"
   ]
  },
  {
   "cell_type": "code",
   "execution_count": 107,
   "id": "fd43ebd3",
   "metadata": {},
   "outputs": [
    {
     "data": {
      "text/plain": [
       "Paved        2560\n",
       "Gravel       2520\n",
       "No Access    2010\n",
       "Pavd           12\n",
       "NoAccess        7\n",
       "Name: STREET, dtype: int64"
      ]
     },
     "execution_count": 107,
     "metadata": {},
     "output_type": "execute_result"
    }
   ],
   "source": [
    "df.STREET.value_counts()"
   ]
  },
  {
   "cell_type": "code",
   "execution_count": 108,
   "id": "5abe0a29",
   "metadata": {},
   "outputs": [],
   "source": [
    "df.STREET = df['STREET'].replace({'Pavd' : 'Paved'})\n",
    "df.STREET = df['STREET'].replace({'NoAccess' : 'No Access'})"
   ]
  },
  {
   "cell_type": "markdown",
   "id": "0570d53d",
   "metadata": {},
   "source": [
    "MZZONE"
   ]
  },
  {
   "cell_type": "code",
   "execution_count": 109,
   "id": "1db1a88a",
   "metadata": {},
   "outputs": [
    {
     "data": {
      "text/plain": [
       "RL    1858\n",
       "RH    1822\n",
       "RM    1817\n",
       "C      550\n",
       "A      537\n",
       "I      525\n",
       "Name: MZZONE, dtype: int64"
      ]
     },
     "execution_count": 109,
     "metadata": {},
     "output_type": "execute_result"
    }
   ],
   "source": [
    "df.MZZONE.value_counts()"
   ]
  },
  {
   "cell_type": "code",
   "execution_count": 110,
   "id": "ad1df3e4",
   "metadata": {},
   "outputs": [],
   "source": [
    "df['BUILT_YEAR'] = df['DATE_BUILD'].dt.year\n",
    "df['SOLD_YEAR'] = df['DATE_SALE'].dt.year\n",
    "df['AGE_OF_HOUSE'] = df['SOLD_YEAR'] - df['BUILT_YEAR']"
   ]
  },
  {
   "cell_type": "code",
   "execution_count": 111,
   "id": "f1ec8a6e",
   "metadata": {},
   "outputs": [],
   "source": [
    "df['TOTAL_PRICE'] = df['REG_FEE'] + df['COMMIS'] + df['SALES_PRICE']"
   ]
  },
  {
   "cell_type": "code",
   "execution_count": 112,
   "id": "de1b5ec9",
   "metadata": {},
   "outputs": [],
   "source": [
    "df.drop(['DATE_BUILD','DATE_SALE','REG_FEE','COMMIS','SALES_PRICE'],axis=1,inplace=True)"
   ]
  },
  {
   "cell_type": "code",
   "execution_count": 114,
   "id": "0035cb3e",
   "metadata": {},
   "outputs": [],
   "source": [
    "df['QS_OVERALL'] = df['QS_OVERALL'].fillna(df['QS_OVERALL'].mean())"
   ]
  },
  {
   "cell_type": "code",
   "execution_count": 121,
   "id": "508b9ee3",
   "metadata": {},
   "outputs": [
    {
     "data": {
      "text/plain": [
       "(7109, 20)"
      ]
     },
     "execution_count": 121,
     "metadata": {},
     "output_type": "execute_result"
    }
   ],
   "source": [
    "df.shape"
   ]
  },
  {
   "cell_type": "code",
   "execution_count": 122,
   "id": "ccdddb05",
   "metadata": {},
   "outputs": [],
   "source": [
    "df.drop_duplicates(inplace = True)"
   ]
  },
  {
   "cell_type": "code",
   "execution_count": 123,
   "id": "75e1b77d",
   "metadata": {},
   "outputs": [
    {
     "data": {
      "text/plain": [
       "Index(['AREA', 'INT_SQFT', 'DIST_MAINROAD', 'N_BEDROOM', 'N_BATHROOM',\n",
       "       'N_ROOM', 'SALE_COND', 'PARK_FACIL', 'BUILDTYPE', 'UTILITY_AVAIL',\n",
       "       'STREET', 'MZZONE', 'QS_ROOMS', 'QS_BATHROOM', 'QS_BEDROOM',\n",
       "       'QS_OVERALL', 'BUILT_YEAR', 'SOLD_YEAR', 'AGE_OF_HOUSE', 'TOTAL_PRICE'],\n",
       "      dtype='object')"
      ]
     },
     "execution_count": 123,
     "metadata": {},
     "output_type": "execute_result"
    }
   ],
   "source": [
    "df.columns"
   ]
  },
  {
   "cell_type": "markdown",
   "id": "0dc1ffbb",
   "metadata": {},
   "source": [
    "# EDA"
   ]
  },
  {
   "cell_type": "code",
   "execution_count": 125,
   "id": "ab76bdcb",
   "metadata": {},
   "outputs": [
    {
     "data": {
      "text/plain": [
       "<AxesSubplot:ylabel='AREA'>"
      ]
     },
     "execution_count": 125,
     "metadata": {},
     "output_type": "execute_result"
    },
    {
     "data": {
      "image/png": "[encoded data removed]",
      "text/plain": [
       "<Figure size 640x480 with 1 Axes>"
      ]
     },
     "metadata": {},
     "output_type": "display_data"
    }
   ],
   "source": [
    "(df.groupby(\"AREA\")['TOTAL_PRICE'].mean()*100).sort_values().plot(kind=\"barh\", color=\"green\")"
   ]
  },
  {
   "cell_type": "code",
   "execution_count": 129,
   "id": "c110e9d6",
   "metadata": {},
   "outputs": [
    {
     "data": {
      "text/plain": [
       "<AxesSubplot:xlabel='SOLD_YEAR'>"
      ]
     },
     "execution_count": 129,
     "metadata": {},
     "output_type": "execute_result"
    },
    {
     "data": {
      "image/png": "[encoded data removed]",
      "text/plain": [
       "<Figure size 640x480 with 1 Axes>"
      ]
     },
     "metadata": {},
     "output_type": "display_data"
    }
   ],
   "source": [
    "(df.groupby(\"SOLD_YEAR\")['TOTAL_PRICE'].mean()*100).sort_values().plot(kind=\"bar\", color=\"green\")"
   ]
  },
  {
   "cell_type": "code",
   "execution_count": 130,
   "id": "11c95faf",
   "metadata": {},
   "outputs": [
    {
     "data": {
      "text/plain": [
       "<AxesSubplot:ylabel='N_BEDROOM'>"
      ]
     },
     "execution_count": 130,
     "metadata": {},
     "output_type": "execute_result"
    },
    {
     "data": {
      "image/png": "[encoded data removed]",
      "text/plain": [
       "<Figure size 640x480 with 1 Axes>"
      ]
     },
     "metadata": {},
     "output_type": "display_data"
    }
   ],
   "source": [
    "(df.groupby(\"N_BEDROOM\")['TOTAL_PRICE'].mean()*100).sort_values().plot(kind=\"barh\", color=\"green\")"
   ]
  },
  {
   "cell_type": "code",
   "execution_count": 131,
   "id": "2d1546ff",
   "metadata": {},
   "outputs": [
    {
     "data": {
      "text/plain": [
       "<AxesSubplot:ylabel='N_BATHROOM'>"
      ]
     },
     "execution_count": 131,
     "metadata": {},
     "output_type": "execute_result"
    },
    {
     "data": {
      "image/png": "[encoded data removed]",
      "text/plain": [
       "<Figure size 640x480 with 1 Axes>"
      ]
     },
     "metadata": {},
     "output_type": "display_data"
    }
   ],
   "source": [
    "(df.groupby(\"N_BATHROOM\")['TOTAL_PRICE'].mean()*100).sort_values().plot(kind=\"barh\", color=\"green\")"
   ]
  },
  {
   "cell_type": "code",
   "execution_count": 132,
   "id": "da76a488",
   "metadata": {},
   "outputs": [
    {
     "data": {
      "text/plain": [
       "<AxesSubplot:ylabel='SALE_COND'>"
      ]
     },
     "execution_count": 132,
     "metadata": {},
     "output_type": "execute_result"
    },
    {
     "data": {
      "image/png": "[encoded data removed]",
      "text/plain": [
       "<Figure size 640x480 with 1 Axes>"
      ]
     },
     "metadata": {},
     "output_type": "display_data"
    }
   ],
   "source": [
    "(df.groupby(\"SALE_COND\")['TOTAL_PRICE'].mean()*100).sort_values().plot(kind=\"barh\", color=\"green\")"
   ]
  },
  {
   "cell_type": "code",
   "execution_count": 133,
   "id": "5947c01c",
   "metadata": {},
   "outputs": [
    {
     "data": {
      "text/plain": [
       "<AxesSubplot:ylabel='PARK_FACIL'>"
      ]
     },
     "execution_count": 133,
     "metadata": {},
     "output_type": "execute_result"
    },
    {
     "data": {
      "image/png": "[encoded data removed]",
      "text/plain": [
       "<Figure size 640x480 with 1 Axes>"
      ]
     },
     "metadata": {},
     "output_type": "display_data"
    }
   ],
   "source": [
    "(df.groupby(\"PARK_FACIL\")['TOTAL_PRICE'].mean()*100).sort_values().plot(kind=\"barh\", color=\"green\")"
   ]
  },
  {
   "cell_type": "code",
   "execution_count": 134,
   "id": "89080f70",
   "metadata": {},
   "outputs": [
    {
     "data": {
      "text/plain": [
       "<AxesSubplot:ylabel='BUILDTYPE'>"
      ]
     },
     "execution_count": 134,
     "metadata": {},
     "output_type": "execute_result"
    },
    {
     "data": {
      "image/png": "[encoded data removed]",
      "text/plain": [
       "<Figure size 640x480 with 1 Axes>"
      ]
     },
     "metadata": {},
     "output_type": "display_data"
    }
   ],
   "source": [
    "(df.groupby(\"BUILDTYPE\")['TOTAL_PRICE'].mean()*100).sort_values().plot(kind=\"barh\", color=\"green\")"
   ]
  },
  {
   "cell_type": "code",
   "execution_count": 135,
   "id": "f815f8fd",
   "metadata": {},
   "outputs": [
    {
     "data": {
      "text/plain": [
       "<AxesSubplot:ylabel='PARK_FACIL'>"
      ]
     },
     "execution_count": 135,
     "metadata": {},
     "output_type": "execute_result"
    },
    {
     "data": {
      "image/png": "[encoded data removed]",
      "text/plain": [
       "<Figure size 640x480 with 1 Axes>"
      ]
     },
     "metadata": {},
     "output_type": "display_data"
    }
   ],
   "source": [
    "(df.groupby(\"PARK_FACIL\")['TOTAL_PRICE'].mean()*100).sort_values().plot(kind=\"barh\", color=\"green\")"
   ]
  },
  {
   "cell_type": "code",
   "execution_count": 136,
   "id": "ed6c552e",
   "metadata": {},
   "outputs": [
    {
     "data": {
      "text/plain": [
       "<AxesSubplot:ylabel='UTILITY_AVAIL'>"
      ]
     },
     "execution_count": 136,
     "metadata": {},
     "output_type": "execute_result"
    },
    {
     "data": {
      "image/png": "[encoded data removed]",
      "text/plain": [
       "<Figure size 640x480 with 1 Axes>"
      ]
     },
     "metadata": {},
     "output_type": "display_data"
    }
   ],
   "source": [
    "(df.groupby('UTILITY_AVAIL')['TOTAL_PRICE'].mean()*100).sort_values().plot(kind=\"barh\", color=\"green\")"
   ]
  },
  {
   "cell_type": "code",
   "execution_count": 137,
   "id": "064f4230",
   "metadata": {},
   "outputs": [
    {
     "data": {
      "text/plain": [
       "<AxesSubplot:ylabel='STREET'>"
      ]
     },
     "execution_count": 137,
     "metadata": {},
     "output_type": "execute_result"
    },
    {
     "data": {
      "image/png": "[encoded data removed]",
      "text/plain": [
       "<Figure size 640x480 with 1 Axes>"
      ]
     },
     "metadata": {},
     "output_type": "display_data"
    }
   ],
   "source": [
    "(df.groupby('STREET')['TOTAL_PRICE'].mean()*100).sort_values().plot(kind=\"barh\", color=\"green\")"
   ]
  },
  {
   "cell_type": "code",
   "execution_count": 138,
   "id": "6ae4cb69",
   "metadata": {},
   "outputs": [
    {
     "data": {
      "text/plain": [
       "<AxesSubplot:ylabel='MZZONE'>"
      ]
     },
     "execution_count": 138,
     "metadata": {},
     "output_type": "execute_result"
    },
    {
     "data": {
      "image/png": "[encoded data removed]",
      "text/plain": [
       "<Figure size 640x480 with 1 Axes>"
      ]
     },
     "metadata": {},
     "output_type": "display_data"
    }
   ],
   "source": [
    "(df.groupby('MZZONE')['TOTAL_PRICE'].mean()*100).sort_values().plot(kind=\"barh\", color=\"green\")"
   ]
  },
  {
   "cell_type": "markdown",
   "id": "102d3c9a",
   "metadata": {},
   "source": [
    "# ENCODING"
   ]
  },
  {
   "cell_type": "code",
   "execution_count": 147,
   "id": "97380dae",
   "metadata": {},
   "outputs": [],
   "source": [
    "df['AREA'] = df['AREA'].replace({'Karapakkam' : 6, 'Anna Nagar' : 1, 'Adyar' : 5, 'Velachery' : 3, 'Chrompet' : 4,\n",
    "                               'KK Nagar' : 2, 'T Nagar' : 0})\n",
    "\n",
    "\n",
    "df['SALE_COND'] = df['SALE_COND'].replace({'AbNormal' : 2, 'Family' : 3, 'Partial' : 4, 'AdjLand' : 0, 'Normal Sale' : 1})\n",
    "\n",
    "df['PARK_FACIL'] = df['PARK_FACIL'].replace({'Yes' : 0, 'No' : 1})\n",
    "\n",
    "df['BUILDTYPE'] = df['BUILDTYPE'].replace({'Commercial' : 0, 'Others' : 1, 'House' : 2})\n",
    "\n",
    "df['UTILITY_AVAIL'] = df['UTILITY_AVAIL'].replace({'AllPub' : 0, 'ELO' : 3, 'NoSewr' : 1, 'NoSeWa' : 2})\n",
    "\n",
    "df['STREET'] = df['STREET'].replace({'Paved' : 1, 'Gravel' : 0, 'No Access' : 2})\n",
    "\n",
    "df['MZZONE'] = df['MZZONE'].replace({'A' : 5, 'RH' : 2, 'RL' : 1, 'I' : 3, 'C' : 4, 'RM': 0})"
   ]
  },
  {
   "cell_type": "code",
   "execution_count": 148,
   "id": "f25b0e3f",
   "metadata": {},
   "outputs": [
    {
     "data": {
      "text/html": [
       "<div>\n",
       "<style scoped>\n",
       "    .dataframe tbody tr th:only-of-type {\n",
       "        vertical-align: middle;\n",
       "    }\n",
       "\n",
       "    .dataframe tbody tr th {\n",
       "        vertical-align: top;\n",
       "    }\n",
       "\n",
       "    .dataframe thead th {\n",
       "        text-align: right;\n",
       "    }\n",
       "</style>\n",
       "<table border=\"1\" class=\"dataframe\">\n",
       "  <thead>\n",
       "    <tr style=\"text-align: right;\">\n",
       "      <th></th>\n",
       "      <th>AREA</th>\n",
       "      <th>INT_SQFT</th>\n",
       "      <th>DIST_MAINROAD</th>\n",
       "      <th>N_BEDROOM</th>\n",
       "      <th>N_BATHROOM</th>\n",
       "      <th>N_ROOM</th>\n",
       "      <th>SALE_COND</th>\n",
       "      <th>PARK_FACIL</th>\n",
       "      <th>BUILDTYPE</th>\n",
       "      <th>UTILITY_AVAIL</th>\n",
       "      <th>STREET</th>\n",
       "      <th>MZZONE</th>\n",
       "      <th>QS_ROOMS</th>\n",
       "      <th>QS_BATHROOM</th>\n",
       "      <th>QS_BEDROOM</th>\n",
       "      <th>QS_OVERALL</th>\n",
       "      <th>BUILT_YEAR</th>\n",
       "      <th>SOLD_YEAR</th>\n",
       "      <th>AGE_OF_HOUSE</th>\n",
       "      <th>TOTAL_PRICE</th>\n",
       "    </tr>\n",
       "  </thead>\n",
       "  <tbody>\n",
       "    <tr>\n",
       "      <th>0</th>\n",
       "      <td>6</td>\n",
       "      <td>1004</td>\n",
       "      <td>131</td>\n",
       "      <td>1.0</td>\n",
       "      <td>1.0</td>\n",
       "      <td>3</td>\n",
       "      <td>2</td>\n",
       "      <td>0</td>\n",
       "      <td>0</td>\n",
       "      <td>0</td>\n",
       "      <td>1</td>\n",
       "      <td>5</td>\n",
       "      <td>4.0</td>\n",
       "      <td>3.9</td>\n",
       "      <td>4.9</td>\n",
       "      <td>4.330</td>\n",
       "      <td>1967</td>\n",
       "      <td>2011</td>\n",
       "      <td>44</td>\n",
       "      <td>8124400</td>\n",
       "    </tr>\n",
       "    <tr>\n",
       "      <th>1</th>\n",
       "      <td>1</td>\n",
       "      <td>1986</td>\n",
       "      <td>26</td>\n",
       "      <td>2.0</td>\n",
       "      <td>1.0</td>\n",
       "      <td>5</td>\n",
       "      <td>2</td>\n",
       "      <td>1</td>\n",
       "      <td>0</td>\n",
       "      <td>0</td>\n",
       "      <td>0</td>\n",
       "      <td>2</td>\n",
       "      <td>4.9</td>\n",
       "      <td>4.2</td>\n",
       "      <td>2.5</td>\n",
       "      <td>3.765</td>\n",
       "      <td>1995</td>\n",
       "      <td>2006</td>\n",
       "      <td>11</td>\n",
       "      <td>22781941</td>\n",
       "    </tr>\n",
       "    <tr>\n",
       "      <th>2</th>\n",
       "      <td>5</td>\n",
       "      <td>909</td>\n",
       "      <td>70</td>\n",
       "      <td>1.0</td>\n",
       "      <td>1.0</td>\n",
       "      <td>3</td>\n",
       "      <td>2</td>\n",
       "      <td>0</td>\n",
       "      <td>0</td>\n",
       "      <td>3</td>\n",
       "      <td>0</td>\n",
       "      <td>1</td>\n",
       "      <td>4.1</td>\n",
       "      <td>3.8</td>\n",
       "      <td>2.2</td>\n",
       "      <td>3.090</td>\n",
       "      <td>1992</td>\n",
       "      <td>2012</td>\n",
       "      <td>20</td>\n",
       "      <td>13672408</td>\n",
       "    </tr>\n",
       "    <tr>\n",
       "      <th>3</th>\n",
       "      <td>3</td>\n",
       "      <td>1855</td>\n",
       "      <td>14</td>\n",
       "      <td>3.0</td>\n",
       "      <td>2.0</td>\n",
       "      <td>5</td>\n",
       "      <td>3</td>\n",
       "      <td>1</td>\n",
       "      <td>1</td>\n",
       "      <td>1</td>\n",
       "      <td>1</td>\n",
       "      <td>3</td>\n",
       "      <td>4.7</td>\n",
       "      <td>3.9</td>\n",
       "      <td>3.6</td>\n",
       "      <td>4.010</td>\n",
       "      <td>1988</td>\n",
       "      <td>2010</td>\n",
       "      <td>22</td>\n",
       "      <td>10063653</td>\n",
       "    </tr>\n",
       "    <tr>\n",
       "      <th>4</th>\n",
       "      <td>6</td>\n",
       "      <td>1226</td>\n",
       "      <td>84</td>\n",
       "      <td>1.0</td>\n",
       "      <td>1.0</td>\n",
       "      <td>3</td>\n",
       "      <td>2</td>\n",
       "      <td>0</td>\n",
       "      <td>1</td>\n",
       "      <td>0</td>\n",
       "      <td>0</td>\n",
       "      <td>4</td>\n",
       "      <td>3.0</td>\n",
       "      <td>2.5</td>\n",
       "      <td>4.1</td>\n",
       "      <td>3.290</td>\n",
       "      <td>1979</td>\n",
       "      <td>2009</td>\n",
       "      <td>30</td>\n",
       "      <td>7717313</td>\n",
       "    </tr>\n",
       "  </tbody>\n",
       "</table>\n",
       "</div>"
      ],
      "text/plain": [
       "   AREA  INT_SQFT  DIST_MAINROAD  N_BEDROOM  N_BATHROOM  N_ROOM  SALE_COND  \\\n",
       "0     6      1004            131        1.0         1.0       3          2   \n",
       "1     1      1986             26        2.0         1.0       5          2   \n",
       "2     5       909             70        1.0         1.0       3          2   \n",
       "3     3      1855             14        3.0         2.0       5          3   \n",
       "4     6      1226             84        1.0         1.0       3          2   \n",
       "\n",
       "   PARK_FACIL  BUILDTYPE  UTILITY_AVAIL  STREET  MZZONE  QS_ROOMS  \\\n",
       "0           0          0              0       1       5       4.0   \n",
       "1           1          0              0       0       2       4.9   \n",
       "2           0          0              3       0       1       4.1   \n",
       "3           1          1              1       1       3       4.7   \n",
       "4           0          1              0       0       4       3.0   \n",
       "\n",
       "   QS_BATHROOM  QS_BEDROOM  QS_OVERALL  BUILT_YEAR  SOLD_YEAR  AGE_OF_HOUSE  \\\n",
       "0          3.9         4.9       4.330        1967       2011            44   \n",
       "1          4.2         2.5       3.765        1995       2006            11   \n",
       "2          3.8         2.2       3.090        1992       2012            20   \n",
       "3          3.9         3.6       4.010        1988       2010            22   \n",
       "4          2.5         4.1       3.290        1979       2009            30   \n",
       "\n",
       "   TOTAL_PRICE  \n",
       "0      8124400  \n",
       "1     22781941  \n",
       "2     13672408  \n",
       "3     10063653  \n",
       "4      7717313  "
      ]
     },
     "execution_count": 148,
     "metadata": {},
     "output_type": "execute_result"
    }
   ],
   "source": [
    "df.head()"
   ]
  },
  {
   "cell_type": "code",
   "execution_count": 149,
   "id": "21412846",
   "metadata": {},
   "outputs": [
    {
     "data": {
      "text/plain": [
       "Index(['AREA', 'INT_SQFT', 'DIST_MAINROAD', 'N_BEDROOM', 'N_BATHROOM',\n",
       "       'N_ROOM', 'SALE_COND', 'PARK_FACIL', 'BUILDTYPE', 'UTILITY_AVAIL',\n",
       "       'STREET', 'MZZONE', 'QS_ROOMS', 'QS_BATHROOM', 'QS_BEDROOM',\n",
       "       'QS_OVERALL', 'BUILT_YEAR', 'SOLD_YEAR', 'AGE_OF_HOUSE', 'TOTAL_PRICE'],\n",
       "      dtype='object')"
      ]
     },
     "execution_count": 149,
     "metadata": {},
     "output_type": "execute_result"
    }
   ],
   "source": [
    "df.columns"
   ]
  },
  {
   "cell_type": "markdown",
   "id": "c00a61cb",
   "metadata": {},
   "source": [
    "# Features and Target Variable"
   ]
  },
  {
   "cell_type": "code",
   "execution_count": 152,
   "id": "c0cc4aae",
   "metadata": {},
   "outputs": [],
   "source": [
    "X = df[['AREA', 'INT_SQFT', 'DIST_MAINROAD', 'N_BEDROOM', 'N_BATHROOM', 'N_ROOM', 'SALE_COND', 'PARK_FACIL', 'BUILDTYPE',\n",
    "        'UTILITY_AVAIL', 'STREET', 'MZZONE', 'QS_ROOMS', 'QS_BATHROOM', 'QS_BEDROOM', 'QS_OVERALL', 'BUILT_YEAR',\n",
    "        'SOLD_YEAR', 'AGE_OF_HOUSE']]\n",
    "\n",
    "y = df['TOTAL_PRICE']"
   ]
  },
  {
   "cell_type": "markdown",
   "id": "e0ee7ac1",
   "metadata": {},
   "source": [
    "# Splitting"
   ]
  },
  {
   "cell_type": "code",
   "execution_count": 153,
   "id": "e9fafdc2",
   "metadata": {},
   "outputs": [],
   "source": [
    "from sklearn.model_selection import train_test_split\n",
    "X_train, X_test, y_train, y_test = train_test_split(X,y, test_size = 0.25) "
   ]
  },
  {
   "cell_type": "markdown",
   "id": "ac4a833c",
   "metadata": {},
   "source": [
    "# Models"
   ]
  },
  {
   "cell_type": "markdown",
   "id": "e0c5c18c",
   "metadata": {},
   "source": [
    "# Linear Regression"
   ]
  },
  {
   "cell_type": "code",
   "execution_count": 159,
   "id": "19777f57",
   "metadata": {},
   "outputs": [
    {
     "data": {
      "text/plain": [
       "0.8854537801084225"
      ]
     },
     "execution_count": 159,
     "metadata": {},
     "output_type": "execute_result"
    }
   ],
   "source": [
    "from sklearn.linear_model import LinearRegression\n",
    "from sklearn.metrics import r2_score\n",
    "reg = LinearRegression()\n",
    "reg.fit(X_train, y_train)\n",
    "y_predict_reg = reg.predict(X_test)\n",
    "r2_score(y_test,y_predict_reg)"
   ]
  },
  {
   "cell_type": "code",
   "execution_count": null,
   "id": "fb4e92db",
   "metadata": {},
   "outputs": [],
   "source": []
  },
  {
   "cell_type": "markdown",
   "id": "dd54ce13",
   "metadata": {},
   "source": [
    "# Decision Tree"
   ]
  },
  {
   "cell_type": "code",
   "execution_count": 162,
   "id": "ee27cd67",
   "metadata": {},
   "outputs": [
    {
     "name": "stdout",
     "output_type": "stream",
     "text": [
      "Depth :  1 Train Score :  0.3692360660723666 R2 :  0.3664256426063678 Cross Validation :  0.36763391673897294\n",
      "Depth :  2 Train Score :  0.6970296308577608 R2 :  0.6799145678373885 Cross Validation :  0.6955339402823899\n",
      "Depth :  3 Train Score :  0.8026102672004556 R2 :  0.7926961903954084 Cross Validation :  0.7968430815824344\n",
      "Depth :  4 Train Score :  0.8859799626738495 R2 :  0.8747638075698099 Cross Validation :  0.8807438592746415\n",
      "Depth :  5 Train Score :  0.9207208263088599 R2 :  0.9142326160769128 Cross Validation :  0.9141141181167225\n",
      "Depth :  6 Train Score :  0.9426238190940518 R2 :  0.9360003280562715 Cross Validation :  0.9346991744480622\n",
      "Depth :  7 Train Score :  0.9587624349047568 R2 :  0.9481643411887257 Cross Validation :  0.9483356243197525\n",
      "Depth :  8 Train Score :  0.9721870315604801 R2 :  0.9574542643843098 Cross Validation :  0.9581991151510681\n",
      "Depth :  9 Train Score :  0.9825557463452992 R2 :  0.9633406908082264 Cross Validation :  0.9624337749774909\n",
      "Depth :  10 Train Score :  0.9896721685233092 R2 :  0.9647406908353657 Cross Validation :  0.963490257385797\n",
      "Depth :  11 Train Score :  0.9943321656804329 R2 :  0.9639314371974149 Cross Validation :  0.963506076763674\n",
      "Depth :  12 Train Score :  0.9971223319187854 R2 :  0.9635994029226497 Cross Validation :  0.9620797792647376\n",
      "Depth :  13 Train Score :  0.998685002544521 R2 :  0.9642188252314206 Cross Validation :  0.9611121052027434\n",
      "Depth :  14 Train Score :  0.9995124728445295 R2 :  0.9632600667259814 Cross Validation :  0.9605751139995091\n"
     ]
    }
   ],
   "source": [
    "from sklearn.tree import DecisionTreeRegressor\n",
    "from sklearn.model_selection import cross_val_score\n",
    "\n",
    "for depth in range(1,15) :\n",
    "    dt = DecisionTreeRegressor(max_depth = depth)\n",
    "    dt.fit(X_train, y_train)\n",
    "    y_predict_dt = dt.predict(X_test)\n",
    "    r2 = r2_score(y_test,y_predict_dt)\n",
    "    print('Depth : ', depth, 'Train Score : ', dt.score(X_train, y_train), 'R2 : ', r2, 'Cross Validation : ', np.mean(cross_val_score(dt, X_train, y_train, cv=10, scoring = 'r2')))\n"
   ]
  },
  {
   "cell_type": "code",
   "execution_count": 164,
   "id": "3a637c82",
   "metadata": {},
   "outputs": [
    {
     "data": {
      "text/plain": [
       "0.9639805455484134"
      ]
     },
     "execution_count": 164,
     "metadata": {},
     "output_type": "execute_result"
    }
   ],
   "source": [
    "dt = DecisionTreeRegressor(max_depth = 11)\n",
    "dt.fit(X_train, y_train)\n",
    "y_predict_dt = dt.predict(X_test)\n",
    "r2_score(y_test,y_predict_dt)"
   ]
  },
  {
   "cell_type": "code",
   "execution_count": null,
   "id": "2a7aead5",
   "metadata": {},
   "outputs": [],
   "source": []
  },
  {
   "cell_type": "markdown",
   "id": "1593080c",
   "metadata": {},
   "source": [
    "# Random Forest"
   ]
  },
  {
   "cell_type": "code",
   "execution_count": 165,
   "id": "56290d24",
   "metadata": {},
   "outputs": [
    {
     "data": {
      "text/plain": [
       "0.8168105913861814"
      ]
     },
     "execution_count": 165,
     "metadata": {},
     "output_type": "execute_result"
    }
   ],
   "source": [
    "from sklearn.ensemble import RandomForestRegressor\n",
    "\n",
    "rf = RandomForestRegressor(n_estimators = 100, max_depth = 4, max_features = 'sqrt')\n",
    "rf.fit(X_train, y_train)\n",
    "y_predict_rf = rf.predict(X_test)\n",
    "r2_score(y_test, y_predict_rf)"
   ]
  },
  {
   "cell_type": "code",
   "execution_count": null,
   "id": "292999d5",
   "metadata": {},
   "outputs": [],
   "source": []
  },
  {
   "cell_type": "markdown",
   "id": "4922070e",
   "metadata": {},
   "source": [
    "# XGBoost"
   ]
  },
  {
   "cell_type": "code",
   "execution_count": 168,
   "id": "a2b71e27",
   "metadata": {},
   "outputs": [
    {
     "name": "stdout",
     "output_type": "stream",
     "text": [
      "Learning Rate :  0.07 Train Score :  0.9977421321137533 R2 :  0.994409265557146 Cross Validation :  0.9943909659429432\n",
      "Learning Rate :  0.08 Train Score :  0.9982856463801331 R2 :  0.9951069676452552 Cross Validation :  0.9949868446776925\n",
      "Learning Rate :  0.09 Train Score :  0.9986105707147181 R2 :  0.99557916566365 Cross Validation :  0.9954827433220738\n",
      "Learning Rate :  0.1 Train Score :  0.9987947135018665 R2 :  0.9956365567800457 Cross Validation :  0.995817543077625\n",
      "Learning Rate :  0.2 Train Score :  0.9993008550789545 R2 :  0.9961452604318186 Cross Validation :  0.995697861162108\n",
      "Learning Rate :  0.3 Train Score :  0.9995204911034068 R2 :  0.9949346751078251 Cross Validation :  0.9943761382163565\n",
      "Learning Rate :  0.4 Train Score :  0.9995022624461934 R2 :  0.9922329283762774 Cross Validation :  0.9924688232647642\n",
      "Learning Rate :  0.5 Train Score :  0.9996289779046773 R2 :  0.9894635042127288 Cross Validation :  0.9903109366786149\n",
      "Learning Rate :  0.6 Train Score :  0.9996480893339564 R2 :  0.9876914422963032 Cross Validation :  0.9875113066721122\n",
      "Learning Rate :  0.7 Train Score :  0.9997165438156445 R2 :  0.9850901607597715 Cross Validation :  0.9850994565588376\n",
      "Learning Rate :  0.8 Train Score :  0.999786854993126 R2 :  0.9845076622401934 Cross Validation :  0.9806602309721477\n",
      "Learning Rate :  0.9 Train Score :  0.9997946068447133 R2 :  0.9787382923257448 Cross Validation :  0.9774492858119522\n",
      "Learning Rate :  1 Train Score :  0.9998252594811992 R2 :  0.9734942904408951 Cross Validation :  0.9729777051798187\n"
     ]
    }
   ],
   "source": [
    "import xgboost as xgb\n",
    "\n",
    "for lr in [0.07,0.08,0.09,0.1,0.2,0.3,0.4,0.5,0.6,0.7,0.8,0.9,1]:\n",
    "    xg = xgb.XGBRegressor(learning_rate = lr, n_estimator = 100, verbosity = 0)\n",
    "    xg.fit(X_train, y_train)\n",
    "    y_predict_xg = xg.predict(X_test)\n",
    "    r2 = r2_score(y_test, y_predict_xg)\n",
    "    print('Learning Rate : ', lr, 'Train Score : ', xg.score(X_train, y_train), 'R2 : ', r2, 'Cross Validation : ', np.mean(cross_val_score(xg, X_train, y_train, cv=10, scoring = 'r2')))\n"
   ]
  },
  {
   "cell_type": "code",
   "execution_count": 169,
   "id": "3942d34d",
   "metadata": {},
   "outputs": [
    {
     "data": {
      "text/plain": [
       "0.9956365567800457"
      ]
     },
     "execution_count": 169,
     "metadata": {},
     "output_type": "execute_result"
    }
   ],
   "source": [
    "xg = xgb.XGBRegressor(learning_rate = 0.1, n_estimator = 100, verbosity = 0)\n",
    "xg.fit(X_train, y_train)\n",
    "y_predict_xg = xg.predict(X_test)\n",
    "r2_score(y_test, y_predict_xg)"
   ]
  },
  {
   "cell_type": "code",
   "execution_count": null,
   "id": "bb9616f0",
   "metadata": {},
   "outputs": [],
   "source": []
  },
  {
   "cell_type": "markdown",
   "id": "7d506c1f",
   "metadata": {},
   "source": [
    "# Voting Regressor"
   ]
  },
  {
   "cell_type": "code",
   "execution_count": 173,
   "id": "da871532",
   "metadata": {},
   "outputs": [
    {
     "data": {
      "text/plain": [
       "0.9689561967375775"
      ]
     },
     "execution_count": 173,
     "metadata": {},
     "output_type": "execute_result"
    }
   ],
   "source": [
    "from sklearn.ensemble import VotingRegressor\n",
    "\n",
    "model1 =DecisionTreeRegressor(max_depth = 11)\n",
    "model2 = RandomForestRegressor(n_estimators = 100, max_depth = 4, max_features = 'sqrt')\n",
    "model3 = xgb.XGBRegressor(learning_rate = 0.1, n_estimator = 100, verbosity = 0)\n",
    "model4 = LinearRegression()\n",
    "model = VotingRegressor(estimators=[('Decision Tree : ', model1), ('Random Forest : ', model2),('XGBoost : ',model3), ('Logistic Regression : ', model4)]) \n",
    "\n",
    "model.fit(X_train, y_train)\n",
    "y_predict_voting = model.predict(X_test)\n",
    "r2_score(y_test, y_predict_voting)"
   ]
  },
  {
   "cell_type": "code",
   "execution_count": null,
   "id": "73629c46",
   "metadata": {},
   "outputs": [],
   "source": []
  },
  {
   "cell_type": "markdown",
   "id": "0aed0d9e",
   "metadata": {},
   "source": [
    "# R2 Scores"
   ]
  },
  {
   "cell_type": "code",
   "execution_count": 176,
   "id": "c9da3a11",
   "metadata": {},
   "outputs": [
    {
     "data": {
      "text/plain": [
       "XGBoost              0.995637\n",
       "Voting Regressor     0.968956\n",
       "Decision Tree        0.963981\n",
       "Random Forest        0.816811\n",
       "Linear Regression    0.885454\n",
       "dtype: float64"
      ]
     },
     "execution_count": 176,
     "metadata": {},
     "output_type": "execute_result"
    }
   ],
   "source": [
    "R2 = pd.Series({'XGBoost' : (r2_score(y_test, y_predict_xg)),\n",
    "                'Voting Regressor' : (r2_score(y_test, y_predict_voting)),\n",
    "                'Decision Tree' : (r2_score(y_test, y_predict_dt)),\n",
    "                'Random Forest' : (r2_score(y_test, y_predict_rf)),\n",
    "                'Linear Regression' : (r2_score(y_test,y_predict_reg))})\n",
    "R2"
   ]
  },
  {
   "cell_type": "code",
   "execution_count": 179,
   "id": "296312c3",
   "metadata": {},
   "outputs": [],
   "source": [
    "best_prediction = pd.DataFrame({\n",
    "    'actual':y_test,\n",
    "    'predicted':y_predict_xg.flatten()\n",
    "    })"
   ]
  },
  {
   "cell_type": "code",
   "execution_count": 180,
   "id": "ece35f94",
   "metadata": {},
   "outputs": [
    {
     "data": {
      "image/png": "[encoded data removed]",
      "text/plain": [
       "<Figure size 1500x400 with 1 Axes>"
      ]
     },
     "metadata": {},
     "output_type": "display_data"
    }
   ],
   "source": [
    "plt.figure(figsize=(15,4))\n",
    "sns.kdeplot(data=best_prediction, x='actual', label='actual', shade=True)\n",
    "sns.kdeplot(data=best_prediction, x='predicted', label='predicted', color=\"black\", shade=True)\n",
    "plt.title(\"Actual Price Vs Predicted Price\")\n",
    "plt.legend()\n",
    "plt.show()"
   ]
  },
  {
   "cell_type": "code",
   "execution_count": null,
   "id": "37366fa5",
   "metadata": {},
   "outputs": [],
   "source": []
  },
  {
   "cell_type": "markdown",
   "id": "a2600c46",
   "metadata": {},
   "source": [
    "# Important Features"
   ]
  },
  {
   "cell_type": "code",
   "execution_count": 177,
   "id": "74eaaa95",
   "metadata": {},
   "outputs": [
    {
     "name": "stdout",
     "output_type": "stream",
     "text": [
      "BUILDTYPE       - 38.33000183105469\n",
      "AREA            - 30.350000381469727\n",
      "N_ROOM          - 14.260000228881836\n",
      "N_BEDROOM       - 7.019999980926514\n",
      "INT_SQFT        - 3.549999952316284\n",
      "MZZONE          - 2.6700000762939453\n",
      "PARK_FACIL      - 1.2200000286102295\n",
      "STREET          - 0.9399999976158142\n",
      "N_BATHROOM      - 0.6800000071525574\n",
      "SALE_COND       - 0.3100000023841858\n",
      "AGE_OF_HOUSE    - 0.20999999344348907\n",
      "BUILT_YEAR      - 0.17000000178813934\n",
      "UTILITY_AVAIL   - 0.12999999523162842\n",
      "QS_OVERALL      - 0.03999999910593033\n",
      "DIST_MAINROAD   - 0.019999999552965164\n",
      "QS_ROOMS        - 0.019999999552965164\n",
      "QS_BATHROOM     - 0.019999999552965164\n",
      "QS_BEDROOM      - 0.019999999552965164\n",
      "SOLD_YEAR       - 0.019999999552965164\n"
     ]
    }
   ],
   "source": [
    "importances = list((xg.feature_importances_)*100)\n",
    "\n",
    "\n",
    "feature_importances = [(feature, round(importance, 2)) for feature, importance in zip(X.columns, importances)]\n",
    "\n",
    "\n",
    "feature_importances = sorted(feature_importances, key = lambda x: x[1], reverse = True)\n",
    "\n",
    " \n",
    "[print('{:15} - {}'.format(*pair)) for pair in feature_importances];"
   ]
  },
  {
   "cell_type": "code",
   "execution_count": null,
   "id": "c480b64c",
   "metadata": {},
   "outputs": [],
   "source": []
  },
  {
   "cell_type": "markdown",
   "id": "a948b3d8",
   "metadata": {},
   "source": [
    "# Result\n",
    "I have witnessed XGBoost as the best model which yields around 0.9956 R2 score."
   ]
  },
  {
   "cell_type": "code",
   "execution_count": null,
   "id": "dd4f6743",
   "metadata": {},
   "outputs": [],
   "source": []
  },
  {
   "cell_type": "markdown",
   "id": "76618118",
   "metadata": {},
   "source": [
    "# Suggestions\n",
    "1. Building type and available utilities effects the house price.\n",
    "\n",
    "2. Commercial buildings and with all public facilities are very expensive.\n",
    "\n",
    "3. Houses near to Gravel type of street come with highest price."
   ]
  },
  {
   "cell_type": "code",
   "execution_count": null,
   "id": "43a0abcd",
   "metadata": {},
   "outputs": [],
   "source": []
  }
 ],
 "metadata": {
  "kernelspec": {
   "display_name": "Python 3 (ipykernel)",
   "language": "python",
   "name": "python3"
  },
  "language_info": {
   "codemirror_mode": {
    "name": "ipython",
    "version": 3
   },
   "file_extension": ".py",
   "mimetype": "text/x-python",
   "name": "python",
   "nbconvert_exporter": "python",
   "pygments_lexer": "ipython3",
   "version": "3.9.13"
  }
 },
 "nbformat": 4,
 "nbformat_minor": 5
}
